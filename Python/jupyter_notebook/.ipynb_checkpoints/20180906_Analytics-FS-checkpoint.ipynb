{
 "cells": [
  {
   "cell_type": "markdown",
   "metadata": {},
   "source": [
    "# Analytics: recommendation\n",
    "\n",
    "## 1. レコメンデーションの手法\n",
    "- ルールベース\n",
    "- コンテンツベース \n",
    "- 協調フィルタリング\n",
    "    1. ユーザーベース\n",
    "    2. アイテムベース\n",
    "- ベイジアンネットワーク\n",
    "- アソシエーション分析 (バスケット分析)\n",
    "\n",
    "## 2. 類似度\n",
    "### コサイン類似度\n",
    "$$\n",
    "\\begin{equation}\n",
    "s_{ij} = \\frac{v_i \\cdot v_j}{\\|v_i\\|\\|v_j\\|}\n",
    "\\end{equation}\n",
    "$$\n",
    "ただし、$s_i$および$s_j$は特徴量とする。\n",
    "アイテムベースの協調フィルタリングではよく使用されている。\n",
    "\n",
    "※ 一方で、ユーザーベースだとピアソンの相関係数を用いることが多い。"
   ]
  },
  {
   "cell_type": "markdown",
   "metadata": {},
   "source": [
    "# 1. import field"
   ]
  },
  {
   "cell_type": "code",
   "execution_count": 17,
   "metadata": {},
   "outputs": [],
   "source": [
    "import numpy as np\n",
    "import pandas as pd\n",
    "from matplotlib import pyplot as plt\n",
    "import sys\n",
    "\n"
   ]
  },
  {
   "cell_type": "markdown",
   "metadata": {},
   "source": [
    "# 2. deployment"
   ]
  },
  {
   "cell_type": "code",
   "execution_count": 31,
   "metadata": {},
   "outputs": [],
   "source": [
    "def cosin_similarity(v1, v2):\n",
    "    return np.dot(v1, v2) / (np.linalg.norm(v1) * np.linalg.norm(v2))"
   ]
  },
  {
   "cell_type": "markdown",
   "metadata": {},
   "source": [
    "# 3. execution"
   ]
  },
  {
   "cell_type": "code",
   "execution_count": 32,
   "metadata": {},
   "outputs": [
    {
     "name": "stdout",
     "output_type": "stream",
     "text": [
      "There is debug!\n",
      "0.7554512076778562\n"
     ]
    }
   ],
   "source": [
    "if __name__ == '__main__':\n",
    "    print('There is debug!')\n",
    "    v1 = np.array(np.random.rand(100))\n",
    "    v2 = np.array(np.random.rand(100))\n",
    "    v3=np.array([1,2])\n",
    "    v4=np.array([1,2])\n",
    "    print(cosin_similarity(v1, v2))\n"
   ]
  }
 ],
 "metadata": {
  "kernelspec": {
   "display_name": "Python 3",
   "language": "python",
   "name": "python3"
  },
  "language_info": {
   "codemirror_mode": {
    "name": "ipython",
    "version": 3
   },
   "file_extension": ".py",
   "mimetype": "text/x-python",
   "name": "python",
   "nbconvert_exporter": "python",
   "pygments_lexer": "ipython3",
   "version": "3.6.4"
  }
 },
 "nbformat": 4,
 "nbformat_minor": 2
}
