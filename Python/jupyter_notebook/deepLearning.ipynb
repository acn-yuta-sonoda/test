{
 "cells": [
  {
   "cell_type": "code",
   "execution_count": 35,
   "metadata": {
    "scrolled": true
   },
   "outputs": [],
   "source": [
    "import gzip\n",
    "import matplotlib.pyplot as plt\n",
    "import numpy as np\n",
    "np.set_printoptions(linewidth=500000)\n",
    "\n",
    "def load_mnist(mnist_path):\n",
    "    return _load_image(mnist_path + 'train-images-idx3-ubyte.gz'),\\\n",
    "           _load_label(mnist_path + 'train-labels-idx1-ubyte.gz'),\\\n",
    "           _load_image(mnist_path + 't10k-images-idx3-ubyte.gz'),\\\n",
    "           _load_label(mnist_path + 't10k-labels-idx1-ubyte.gz')\n",
    "\n",
    "def _load_image(image_path):\n",
    "    with gzip.open(image_path, 'rb') as f:\n",
    "        buffer = f.read()\n",
    "    size = np.frombuffer(buffer, np.dtype('>i4'), 1, offset=4)\n",
    "    rows = np.frombuffer(buffer, np.dtype('>i4'), 1, offset=8)\n",
    "    columns = np.frombuffer(buffer, np.dtype('>i4'), 1, offset=12)\n",
    "    data = np.frombuffer(buffer, np.uint8, offset=16)\n",
    "    image = np.reshape(data, (size[0], rows[0] * columns[0]))\n",
    "    image = image.astype(np.float32)\n",
    "    return image\n",
    "\n",
    "def _load_label(label_path):\n",
    "    with gzip.open(label_path, 'rb') as f:\n",
    "        buffer = f.read()\n",
    "    size = np.frombuffer(buffer, np.dtype('>i4'), 1, offset=4)\n",
    "    data = np.frombuffer(buffer, np.uint8, offset=8)\n",
    "    label = np.zeros((size[0], 10))\n",
    "    for i in range(size[0]):\n",
    "        label[i, data[i]] = 1\n",
    "    return label\n",
    "\n",
    "def min_max(x, axis=None):\n",
    "    x_min = np.min(x, axis=axis, keepdims=True)\n",
    "    x_max = np.max(x, axis=axis, keepdims=True)\n",
    "    return (x - x_min) / np.maximum((x_max - x_min),1e-7)\n",
    "\n",
    "def z_score(x, axis=None):\n",
    "    x_mean = np.mean(x, axis=axis, keepdims=True)\n",
    "    x_std = np.std(x, axis=axis, keepdims=True)\n",
    "    return (x - x_mean) / x_std\n",
    "\n",
    "def affine(z, W, b):\n",
    "    return np.dot(z, W) + b\n",
    "\n",
    "# sigmodi function\n",
    "def sigmoid(x):\n",
    "    return 1 / (1 + np.exp(-x))\n",
    "\n",
    "# hyperbolic tangent function tanh(x)\n",
    "def tanh(x):\n",
    "    return np.tanh(x)\n",
    "\n",
    "# ReLU (rectified linear unit)\n",
    "def relu(x):\n",
    "    return np.maximum(0, x)\n",
    "\n",
    "# identity function\n",
    "def identity(x):\n",
    "    return x\n",
    "\n",
    "# softmax function\n",
    "def softmax(x):\n",
    "    x = x.T\n",
    "    max_x = np.max(x, axis=0)\n",
    "    exp_x = np.exp(x - max_x)\n",
    "    sum_exp_x = np.sum(exp_x, axis=0)\n",
    "    y = exp_x/sum_exp_x\n",
    "    return y.T\n",
    "\n",
    "# LeCun initializer\n",
    "def lecun_normal(d_1, d):\n",
    "    std = 1 / np.sqrt(d_1)\n",
    "    return np.random.normal(0, std, (d_1, d))\n",
    "def lecun_uniform(d_1, d):\n",
    "    min = -np.sqrt(3/d_1)\n",
    "    max = np.sqrt(3/d_1)\n",
    "    return np.random.uniform(min, max, (d_1, d))\n",
    "\n",
    "# Glorot initializer\n",
    "def glorot_normal(d_1, d):\n",
    "    std = np.sqrt(2 / (d_1 + d))\n",
    "    return np.random.normal(0, std, (d_1, d))\n",
    "def glorot_uniform(d_1, d):\n",
    "    min = -np.sqrt(6 / (d_1 + d))\n",
    "    max = np.sqrt(6 / (d_1 + d))\n",
    "    return np.random.uniform(min, max, (d_1, d))\n",
    "\n",
    "# He initializer\n",
    "def he_normal(d_1, d):\n",
    "    std = np.sqrt(2 / d_1)\n",
    "    return np.random.normal(0, std, (d_1, d))\n",
    "def he_uniform(d_1, d):\n",
    "    min = -np.sqrt(6 / d_1)\n",
    "    max = np.sqrt(6 / d_1)\n",
    "    return np.random.uniform(min, max, (d_1, d))\n",
    "\n",
    "# Loss function\n",
    "# Error sum of squares\n",
    "def mean_squared_error(y, t):\n",
    "    size = 1\n",
    "    if y.ndim == 2:\n",
    "        size = y.shape[0]\n",
    "    return 0.5 * np.sum(( y - t )**2) / size\n",
    "\n",
    "# Cross entropy error\n",
    "def cross_entropy_error(y, t):\n",
    "    size = 1\n",
    "    if y.ndim == 2:\n",
    "        size = y.shape[0]\n",
    "    return -np.sum(t * np.log(y)) / size\n",
    "\n",
    "# gradient\n",
    "def calc_gradient(x, t, w):\n",
    "    h = 1e-4\n",
    "    gradient = np.zeros(w.shape)\n",
    "    for idx, i in np.ndenumerate(w):\n",
    "        work = w[idx]\n",
    "        \n",
    "        w[idx] = work + h\n",
    "        yph = propagation(x)\n",
    "        eph = error_func(yph, t)\n",
    "        \n",
    "        w[idx] = work - h\n",
    "        ymh = propagation(x)\n",
    "        emh = error_func(ymh, t)\n",
    "        \n",
    "        gradient[idx] = (eph - emh) / (2*h)\n",
    "        \n",
    "        w[idx] = work\n",
    "    \n",
    "    return gradient\n",
    "\n",
    "def accuracy_rate(y, t):\n",
    "    max_y = np.argmax(y, axis=1)\n",
    "    max_t = np.argmax(t, axis=1)\n",
    "    return np.sum(max_y == max_t)/y.shape[0]"
   ]
  },
  {
   "cell_type": "code",
   "execution_count": 43,
   "metadata": {},
   "outputs": [
    {
     "data": {
      "image/png": "[encoded data removed]",
      "text/plain": [
       "<matplotlib.figure.Figure at 0x1f2875b1e80>"
      ]
     },
     "metadata": {},
     "output_type": "display_data"
    }
   ],
   "source": [
    "x = np.random.normal(0, 1, 1000)\n",
    "plt.hist(x, bins=50)\n",
    "plt.show()"
   ]
  },
  {
   "cell_type": "code",
   "execution_count": 36,
   "metadata": {},
   "outputs": [
    {
     "data": {
      "image/png": "[encoded data removed]",
      "text/plain": [
       "<matplotlib.figure.Figure at 0x1f2872d5b00>"
      ]
     },
     "metadata": {},
     "output_type": "display_data"
    },
    {
     "data": {
      "image/png": "[encoded data removed]",
      "text/plain": [
       "<matplotlib.figure.Figure at 0x1f2872aa668>"
      ]
     },
     "metadata": {},
     "output_type": "display_data"
    },
    {
     "data": {
      "image/png": "[encoded data removed]",
      "text/plain": [
       "<matplotlib.figure.Figure at 0x1f2872d57f0>"
      ]
     },
     "metadata": {},
     "output_type": "display_data"
    }
   ],
   "source": [
    "x = np.arange(-6.0, 6.0, 0.1)\n",
    "y = sigmoid(x)\n",
    "plt.plot(x, y)\n",
    "plt.title('Sigmoid Curve')\n",
    "plt.show()\n",
    "\n",
    "y = tanh(x)\n",
    "plt.title('Hyperbolic Curve')\n",
    "plt.plot(x, y)\n",
    "plt.show()\n",
    "\n",
    "y = relu(x)\n",
    "plt.title('ReLU')\n",
    "plt.plot(x, y)\n",
    "plt.show()"
   ]
  },
  {
   "cell_type": "code",
   "execution_count": 18,
   "metadata": {
    "scrolled": false
   },
   "outputs": [
    {
     "name": "stdout",
     "output_type": "stream",
     "text": [
      "[0.06438897 0.18878004 0.07502254 0.07095018 0.08207274 0.10267452 0.1074137  0.16537109 0.07578008 0.06754616]\n",
      "[0. 0. 0. 0. 0. 1. 0. 0. 0. 0.]\n",
      "0.4557827540695143\n",
      "2.2761913089662706\n"
     ]
    }
   ],
   "source": [
    "if __name__ == '__main__':\n",
    "    # number of node\n",
    "    d0 = 784\n",
    "    d1 = 50\n",
    "    d2 = 100\n",
    "    d3 = 10\n",
    "    \n",
    "    # initialization of weight and bias\n",
    "    W1 = he_normal(d0, d1)\n",
    "    b1 = np.zeros(d1)\n",
    "    W2 = he_normal(d1, d2)\n",
    "    b2 = np.zeros(d2)\n",
    "    W3 = he_normal(d2, d3)\n",
    "    b3 = np.zeros(d3)\n",
    "    \n",
    "    # reading MNIST data\n",
    "    mnist_path = 'C:\\\\Users\\\\yuta.sonoda\\\\Desktop\\\\python\\\\jupyter_notebook\\\\mnist\\\\'\n",
    "    x_train, t_train, x_test, t_test = load_mnist(mnist_path)\n",
    "    \n",
    "    # normalization of input data\n",
    "    z0 = min_max(x_train)\n",
    "    \n",
    "    # hidden layer 1\n",
    "    u1 = affine(z0[0], W1, b1)\n",
    "    z1 = relu(u1)\n",
    "    \n",
    "    # hidden layer 2\n",
    "    u2 = affine(z1, W2, b2)\n",
    "    z2 = relu(u2)\n",
    "    \n",
    "    # output layer\n",
    "    u3 = affine(z2, W3, b3)\n",
    "    y = softmax(u3)\n",
    "    \n",
    "    print(y)\n",
    "    print(t_train[0])\n",
    "    print(mean_squared_error(y, t_train[0]))\n",
    "    print(cross_entropy_error(y, t_train[0]))"
   ]
  },
  {
   "cell_type": "code",
   "execution_count": 42,
   "metadata": {},
   "outputs": [
    {
     "name": "stdout",
     "output_type": "stream",
     "text": [
      "[0 0 1]\n",
      "[0 0 0]\n",
      "2\n"
     ]
    }
   ],
   "source": [
    "y=np.array([[1,0,0,0],[1,0,0,0],[0,1,0,0]])\n",
    "max_y = np.argmax(y,axis=1)\n",
    "t=np.array([[0.5,0.2,0.1,0.1],[0.1,0,0,0],[0.9,0,0,0]])\n",
    "max_t = np.argmax(t, axis=1)\n",
    "print(max_y)\n",
    "print(max_t)\n",
    "print(np.sum(max_y == max_t))"
   ]
  }
 ],
 "metadata": {
  "kernelspec": {
   "display_name": "Python 3",
   "language": "python",
   "name": "python3"
  },
  "language_info": {
   "codemirror_mode": {
    "name": "ipython",
    "version": 3
   },
   "file_extension": ".py",
   "mimetype": "text/x-python",
   "name": "python",
   "nbconvert_exporter": "python",
   "pygments_lexer": "ipython3",
   "version": "3.6.4"
  }
 },
 "nbformat": 4,
 "nbformat_minor": 2
}
